{
  "cells": [
    {
      "cell_type": "markdown",
      "source": [
        "# **TP2 - Vision Transformers (ViT)**\n",
        "\n",
        "# **Florentino Arias (a1719)**\n",
        "\n",
        "## **Especialización en Inteligencia Artificial FIUBA 2b2025 - Visión por Computadora III**\n",
        "\n",
        "## Tareas:\n",
        "\n",
        "1. **Implementar la arquitectura de un Vision Transformer**\n",
        "\n",
        "2. **Ingresar y ajustar los parámetros del modelo**\n",
        "\n",
        "3. **Probar diferentes técnicas de data augmentation**"
      ],
      "metadata": {
        "id": "0DQRPNCBn3r-"
      },
      "id": "0DQRPNCBn3r-"
    },
    {
      "cell_type": "code",
      "source": [
        "from google.colab import files\n",
        "uploaded = files.upload()  # Permite subir trainer.py"
      ],
      "metadata": {
        "colab": {
          "base_uri": "https://localhost:8080/",
          "height": 73
        },
        "id": "JOxYS3tCREtF",
        "outputId": "05d59794-8bf3-4d25-da33-3bc1f35f5dfa"
      },
      "id": "JOxYS3tCREtF",
      "execution_count": 1,
      "outputs": [
        {
          "output_type": "display_data",
          "data": {
            "text/plain": [
              "<IPython.core.display.HTML object>"
            ],
            "text/html": [
              "\n",
              "     <input type=\"file\" id=\"files-adc0e963-a4ce-4939-a4b6-8fa59903da1b\" name=\"files[]\" multiple disabled\n",
              "        style=\"border:none\" />\n",
              "     <output id=\"result-adc0e963-a4ce-4939-a4b6-8fa59903da1b\">\n",
              "      Upload widget is only available when the cell has been executed in the\n",
              "      current browser session. Please rerun this cell to enable.\n",
              "      </output>\n",
              "      <script>// Copyright 2017 Google LLC\n",
              "//\n",
              "// Licensed under the Apache License, Version 2.0 (the \"License\");\n",
              "// you may not use this file except in compliance with the License.\n",
              "// You may obtain a copy of the License at\n",
              "//\n",
              "//      http://www.apache.org/licenses/LICENSE-2.0\n",
              "//\n",
              "// Unless required by applicable law or agreed to in writing, software\n",
              "// distributed under the License is distributed on an \"AS IS\" BASIS,\n",
              "// WITHOUT WARRANTIES OR CONDITIONS OF ANY KIND, either express or implied.\n",
              "// See the License for the specific language governing permissions and\n",
              "// limitations under the License.\n",
              "\n",
              "/**\n",
              " * @fileoverview Helpers for google.colab Python module.\n",
              " */\n",
              "(function(scope) {\n",
              "function span(text, styleAttributes = {}) {\n",
              "  const element = document.createElement('span');\n",
              "  element.textContent = text;\n",
              "  for (const key of Object.keys(styleAttributes)) {\n",
              "    element.style[key] = styleAttributes[key];\n",
              "  }\n",
              "  return element;\n",
              "}\n",
              "\n",
              "// Max number of bytes which will be uploaded at a time.\n",
              "const MAX_PAYLOAD_SIZE = 100 * 1024;\n",
              "\n",
              "function _uploadFiles(inputId, outputId) {\n",
              "  const steps = uploadFilesStep(inputId, outputId);\n",
              "  const outputElement = document.getElementById(outputId);\n",
              "  // Cache steps on the outputElement to make it available for the next call\n",
              "  // to uploadFilesContinue from Python.\n",
              "  outputElement.steps = steps;\n",
              "\n",
              "  return _uploadFilesContinue(outputId);\n",
              "}\n",
              "\n",
              "// This is roughly an async generator (not supported in the browser yet),\n",
              "// where there are multiple asynchronous steps and the Python side is going\n",
              "// to poll for completion of each step.\n",
              "// This uses a Promise to block the python side on completion of each step,\n",
              "// then passes the result of the previous step as the input to the next step.\n",
              "function _uploadFilesContinue(outputId) {\n",
              "  const outputElement = document.getElementById(outputId);\n",
              "  const steps = outputElement.steps;\n",
              "\n",
              "  const next = steps.next(outputElement.lastPromiseValue);\n",
              "  return Promise.resolve(next.value.promise).then((value) => {\n",
              "    // Cache the last promise value to make it available to the next\n",
              "    // step of the generator.\n",
              "    outputElement.lastPromiseValue = value;\n",
              "    return next.value.response;\n",
              "  });\n",
              "}\n",
              "\n",
              "/**\n",
              " * Generator function which is called between each async step of the upload\n",
              " * process.\n",
              " * @param {string} inputId Element ID of the input file picker element.\n",
              " * @param {string} outputId Element ID of the output display.\n",
              " * @return {!Iterable<!Object>} Iterable of next steps.\n",
              " */\n",
              "function* uploadFilesStep(inputId, outputId) {\n",
              "  const inputElement = document.getElementById(inputId);\n",
              "  inputElement.disabled = false;\n",
              "\n",
              "  const outputElement = document.getElementById(outputId);\n",
              "  outputElement.innerHTML = '';\n",
              "\n",
              "  const pickedPromise = new Promise((resolve) => {\n",
              "    inputElement.addEventListener('change', (e) => {\n",
              "      resolve(e.target.files);\n",
              "    });\n",
              "  });\n",
              "\n",
              "  const cancel = document.createElement('button');\n",
              "  inputElement.parentElement.appendChild(cancel);\n",
              "  cancel.textContent = 'Cancel upload';\n",
              "  const cancelPromise = new Promise((resolve) => {\n",
              "    cancel.onclick = () => {\n",
              "      resolve(null);\n",
              "    };\n",
              "  });\n",
              "\n",
              "  // Wait for the user to pick the files.\n",
              "  const files = yield {\n",
              "    promise: Promise.race([pickedPromise, cancelPromise]),\n",
              "    response: {\n",
              "      action: 'starting',\n",
              "    }\n",
              "  };\n",
              "\n",
              "  cancel.remove();\n",
              "\n",
              "  // Disable the input element since further picks are not allowed.\n",
              "  inputElement.disabled = true;\n",
              "\n",
              "  if (!files) {\n",
              "    return {\n",
              "      response: {\n",
              "        action: 'complete',\n",
              "      }\n",
              "    };\n",
              "  }\n",
              "\n",
              "  for (const file of files) {\n",
              "    const li = document.createElement('li');\n",
              "    li.append(span(file.name, {fontWeight: 'bold'}));\n",
              "    li.append(span(\n",
              "        `(${file.type || 'n/a'}) - ${file.size} bytes, ` +\n",
              "        `last modified: ${\n",
              "            file.lastModifiedDate ? file.lastModifiedDate.toLocaleDateString() :\n",
              "                                    'n/a'} - `));\n",
              "    const percent = span('0% done');\n",
              "    li.appendChild(percent);\n",
              "\n",
              "    outputElement.appendChild(li);\n",
              "\n",
              "    const fileDataPromise = new Promise((resolve) => {\n",
              "      const reader = new FileReader();\n",
              "      reader.onload = (e) => {\n",
              "        resolve(e.target.result);\n",
              "      };\n",
              "      reader.readAsArrayBuffer(file);\n",
              "    });\n",
              "    // Wait for the data to be ready.\n",
              "    let fileData = yield {\n",
              "      promise: fileDataPromise,\n",
              "      response: {\n",
              "        action: 'continue',\n",
              "      }\n",
              "    };\n",
              "\n",
              "    // Use a chunked sending to avoid message size limits. See b/62115660.\n",
              "    let position = 0;\n",
              "    do {\n",
              "      const length = Math.min(fileData.byteLength - position, MAX_PAYLOAD_SIZE);\n",
              "      const chunk = new Uint8Array(fileData, position, length);\n",
              "      position += length;\n",
              "\n",
              "      const base64 = btoa(String.fromCharCode.apply(null, chunk));\n",
              "      yield {\n",
              "        response: {\n",
              "          action: 'append',\n",
              "          file: file.name,\n",
              "          data: base64,\n",
              "        },\n",
              "      };\n",
              "\n",
              "      let percentDone = fileData.byteLength === 0 ?\n",
              "          100 :\n",
              "          Math.round((position / fileData.byteLength) * 100);\n",
              "      percent.textContent = `${percentDone}% done`;\n",
              "\n",
              "    } while (position < fileData.byteLength);\n",
              "  }\n",
              "\n",
              "  // All done.\n",
              "  yield {\n",
              "    response: {\n",
              "      action: 'complete',\n",
              "    }\n",
              "  };\n",
              "}\n",
              "\n",
              "scope.google = scope.google || {};\n",
              "scope.google.colab = scope.google.colab || {};\n",
              "scope.google.colab._files = {\n",
              "  _uploadFiles,\n",
              "  _uploadFilesContinue,\n",
              "};\n",
              "})(self);\n",
              "</script> "
            ]
          },
          "metadata": {}
        },
        {
          "output_type": "stream",
          "name": "stdout",
          "text": [
            "Saving trainer.py to trainer.py\n"
          ]
        }
      ]
    },
    {
      "cell_type": "code",
      "source": [
        "# IMPORTACIONES\n",
        "import random\n",
        "import numpy as np\n",
        "import torch\n",
        "import torch.nn as nn\n",
        "import torch.optim as optim\n",
        "from torch.utils.data import DataLoader\n",
        "from torchvision import datasets, transforms\n",
        "import matplotlib.pyplot as plt\n",
        "from tqdm import tqdm\n",
        "from trainer import Trainer, EarlyStopping"
      ],
      "metadata": {
        "id": "9Ce49YYNviP6"
      },
      "id": "9Ce49YYNviP6",
      "execution_count": 2,
      "outputs": []
    },
    {
      "cell_type": "code",
      "source": [
        "# PREPARACIÓN DE DATOS: CIFAR-10 + Data Augmentation\n",
        "train_transform = transforms.Compose([\n",
        "    transforms.RandomCrop(32, padding=4),\n",
        "    transforms.RandomHorizontalFlip(),\n",
        "    transforms.ColorJitter(brightness=0.2, contrast=0.2, saturation=0.2, hue=0.1),\n",
        "    transforms.ToTensor()\n",
        "])\n",
        "\n",
        "test_transform = transforms.Compose([\n",
        "    transforms.ToTensor()\n",
        "])\n",
        "\n",
        "train_dataset = datasets.CIFAR10(root='./data', train=True, download=True, transform=train_transform)\n",
        "test_dataset = datasets.CIFAR10(root='./data', train=False, download=True, transform=test_transform)"
      ],
      "metadata": {
        "colab": {
          "base_uri": "https://localhost:8080/"
        },
        "id": "Vh2Gz7Muvoxm",
        "outputId": "de0e341b-c400-4bf4-ea3b-8129cc23a957"
      },
      "id": "Vh2Gz7Muvoxm",
      "execution_count": 3,
      "outputs": [
        {
          "output_type": "stream",
          "name": "stderr",
          "text": [
            "100%|██████████| 170M/170M [00:02<00:00, 76.7MB/s]\n"
          ]
        }
      ]
    },
    {
      "cell_type": "code",
      "source": [
        "import os\n",
        "import math\n",
        "def get_folder_size(folder_path :os.PathLike) -> str:\n",
        "    total_size = 0\n",
        "    for dirpath, _, filenames in os.walk(folder_path):\n",
        "        for filename in filenames:\n",
        "            file_path = os.path.join(dirpath, filename)\n",
        "\n",
        "            if not os.path.islink(file_path):\n",
        "                total_size += os.path.getsize(file_path)\n",
        "\n",
        "    if total_size == 0:\n",
        "        return \"0B\"\n",
        "    size_name = (\"B\", \"KB\", \"MB\", \"GB\", \"TB\")\n",
        "    i = int(math.floor(math.log(total_size, 1024)))\n",
        "    p = math.pow(1024, i)\n",
        "    s = round(total_size / p, 2)\n",
        "    return f\"{s} {size_name[i]}\"\n",
        "\n",
        "\n",
        "folder_path = './data'\n",
        "size_in_bytes = get_folder_size(folder_path)\n",
        "print(f\"Tamaño de carpeta: {size_in_bytes}\")"
      ],
      "metadata": {
        "colab": {
          "base_uri": "https://localhost:8080/"
        },
        "id": "G21fRrSTvvSy",
        "outputId": "2db32dee-172c-4b68-82cb-3f07f9297c6f"
      },
      "id": "G21fRrSTvvSy",
      "execution_count": 6,
      "outputs": [
        {
          "output_type": "stream",
          "name": "stdout",
          "text": [
            "Tamaño de carpeta: 340.19 MB\n"
          ]
        }
      ]
    },
    {
      "cell_type": "code",
      "source": [
        "train_loader = DataLoader(train_dataset, batch_size=64, shuffle=True, num_workers=2)\n",
        "test_loader = DataLoader(test_dataset, batch_size=64, shuffle=False, num_workers=2)"
      ],
      "metadata": {
        "id": "dHYQFyYYvzno"
      },
      "id": "dHYQFyYYvzno",
      "execution_count": 7,
      "outputs": []
    },
    {
      "cell_type": "code",
      "source": [
        "# DEFINICIÓN DE CLASES DEL MODELO\n",
        "class PatchEmbedding(nn.Module):\n",
        "    def __init__(self, img_size: int, patch_size: int, in_channels: int = 3, embed_dim: int = 8):\n",
        "        super(PatchEmbedding, self).__init__()\n",
        "        self.img_size = img_size\n",
        "        self.patch_size = patch_size\n",
        "        self.num_patches = (img_size // patch_size) ** 2\n",
        "        self.proj = nn.Conv2d(in_channels, embed_dim, kernel_size=patch_size, stride=patch_size)\n",
        "\n",
        "    def forward(self, x):\n",
        "        x = self.proj(x)  # (B, embed_dim, H/patch_size, W/patch_size)\n",
        "        x = x.flatten(2)  # (B, embed_dim, num_patches)\n",
        "        x = x.transpose(1, 2)  # (B, num_patches, embed_dim)\n",
        "        return x\n",
        "\n",
        "class PositionalEncodingLearned(nn.Module): # CÓDIGO IMPLEMENTADO EN EL TP1\n",
        "    def __init__(self, num_patches, embed_dim):\n",
        "        super(PositionalEncodingLearned, self).__init__()\n",
        "        self.pos_embedding = nn.Parameter(torch.randn(1, num_patches, embed_dim))\n",
        "\n",
        "    def forward(self, x):\n",
        "        return x + self.pos_embedding\n",
        "\n",
        "class TransformerEncoder(nn.Module):\n",
        "    def __init__(self, embed_dim: int, num_heads: int, ff_dim: int, num_layers: int, dropout=0.1):\n",
        "        super(TransformerEncoder, self).__init__()\n",
        "        encoder_layer = nn.TransformerEncoderLayer(\n",
        "            d_model=embed_dim, nhead=num_heads, dim_feedforward=ff_dim, dropout=dropout, bias=False)\n",
        "        self.transformer_encoder = nn.TransformerEncoder(encoder_layer, num_layers=num_layers)\n",
        "\n",
        "    def forward(self, x):\n",
        "        return self.transformer_encoder(x)\n",
        "\n",
        "class VisionTransformer(nn.Module): # Pongo los parámetros en el init\n",
        "    def __init__(self, img_size=32, patch_size=4, in_channels=3, num_classes=10,\n",
        "                 embed_dim=128, depth=6, num_heads=4, mlp_dim=256, dropout=0.1):\n",
        "        super(VisionTransformer, self).__init__()\n",
        "\n",
        "        self.patch_embed = PatchEmbedding(img_size, patch_size, in_channels, embed_dim)\n",
        "        self.pos_embed = PositionalEncodingLearned(self.patch_embed.num_patches, embed_dim)\n",
        "        self.transformer = TransformerEncoder(embed_dim, num_heads, mlp_dim, depth, dropout)\n",
        "        self.norm = nn.LayerNorm(embed_dim)\n",
        "        self.head = nn.Linear(embed_dim, num_classes)\n",
        "\n",
        "    def forward(self, x):\n",
        "        x = self.patch_embed(x)\n",
        "        x = self.pos_embed(x)\n",
        "        x = self.transformer(x)\n",
        "        x = self.norm(x)\n",
        "        x = x.mean(dim=1)  # Pooling por promedio\n",
        "        x = self.head(x)\n",
        "        return x"
      ],
      "metadata": {
        "id": "air6EkSAwANd"
      },
      "id": "air6EkSAwANd",
      "execution_count": 8,
      "outputs": []
    },
    {
      "cell_type": "code",
      "source": [
        "# FUNCIONES MIXUP Y CUTMIX\n",
        "def mixup_data(x, y, alpha=1.0):\n",
        "    if alpha > 0:\n",
        "        lam = np.random.beta(alpha, alpha)\n",
        "    else:\n",
        "        lam = 1\n",
        "\n",
        "    batch_size = x.size(0)\n",
        "    index = torch.randperm(batch_size).to(x.device)\n",
        "\n",
        "    mixed_x = lam * x + (1 - lam) * x[index, :]\n",
        "    y_a, y_b = y, y[index]\n",
        "    return mixed_x, y_a, y_b, lam\n",
        "\n",
        "def cutmix_data(x, y, alpha=1.0):\n",
        "    if alpha > 0:\n",
        "        lam = np.random.beta(alpha, alpha)\n",
        "    else:\n",
        "        lam = 1\n",
        "\n",
        "    batch_size, _, H, W = x.size()\n",
        "    index = torch.randperm(batch_size).to(x.device)\n",
        "\n",
        "    cx = np.random.randint(W)\n",
        "    cy = np.random.randint(H)\n",
        "    w = int(W * np.sqrt(1 - lam))\n",
        "    h = int(H * np.sqrt(1 - lam))\n",
        "\n",
        "    x1 = np.clip(cx - w // 2, 0, W)\n",
        "    x2 = np.clip(cx + w // 2, 0, W)\n",
        "    y1 = np.clip(cy - h // 2, 0, H)\n",
        "    y2 = np.clip(cy + h // 2, 0, H)\n",
        "\n",
        "    x[:, :, y1:y2, x1:x2] = x[index, :, y1:y2, x1:x2]\n",
        "    y_a, y_b = y, y[index]\n",
        "    lam = 1 - ((x2 - x1) * (y2 - y1) / (W * H))\n",
        "    return x, y_a, y_b, lam\n",
        "\n",
        "def mixup_criterion(criterion, pred, y_a, y_b, lam):\n",
        "    return lam * criterion(pred, y_a) + (1 - lam) * criterion(pred, y_b)"
      ],
      "metadata": {
        "id": "6dyUVQocwE6v"
      },
      "id": "6dyUVQocwE6v",
      "execution_count": 9,
      "outputs": []
    },
    {
      "cell_type": "code",
      "source": [
        "device = 'cuda' if torch.cuda.is_available() else 'cpu'\n",
        "print('Dispositivo: ',device)\n",
        "print('Torch version: ',torch.__version__)"
      ],
      "metadata": {
        "colab": {
          "base_uri": "https://localhost:8080/"
        },
        "id": "qAxV4ipEwMT3",
        "outputId": "87e6e7c8-ba48-4da5-ddce-d9fbdcdedb88"
      },
      "id": "qAxV4ipEwMT3",
      "execution_count": 10,
      "outputs": [
        {
          "output_type": "stream",
          "name": "stdout",
          "text": [
            "Dispositivo:  cuda\n",
            "Torch version:  2.6.0+cu124\n"
          ]
        }
      ]
    },
    {
      "cell_type": "code",
      "source": [
        "# INSTANCIAR MODELO, OPTIMIZADOR, LOSS\n",
        "model = VisionTransformer().to(device)\n",
        "optimizer = optim.AdamW(model.parameters(), lr=1e-3, weight_decay=1e-4)\n",
        "loss_fn = nn.CrossEntropyLoss()\n",
        "\n",
        "print(\"Parametros del modelo:\", list(model.parameters()))"
      ],
      "metadata": {
        "colab": {
          "base_uri": "https://localhost:8080/"
        },
        "id": "zLEQqEYFwQr4",
        "outputId": "a8d037fe-9bba-42e6-e7fe-a152740b6901"
      },
      "id": "zLEQqEYFwQr4",
      "execution_count": 11,
      "outputs": [
        {
          "output_type": "stream",
          "name": "stderr",
          "text": [
            "/usr/local/lib/python3.11/dist-packages/torch/nn/modules/transformer.py:385: UserWarning: enable_nested_tensor is True, but self.use_nested_tensor is False because encoder_layer.self_attn.batch_first was not True(use batch_first for better inference performance)\n",
            "  warnings.warn(\n"
          ]
        },
        {
          "output_type": "stream",
          "name": "stdout",
          "text": [
            "Parametros del modelo: [Parameter containing:\n",
            "tensor([[[[ 0.0111,  0.0627, -0.0526, -0.1334],\n",
            "          [ 0.0564,  0.1331, -0.0644,  0.0999],\n",
            "          [ 0.0897, -0.0125, -0.0182, -0.0946],\n",
            "          [-0.0177, -0.0112, -0.0342,  0.0289]],\n",
            "\n",
            "         [[-0.1203, -0.0208, -0.0822, -0.1069],\n",
            "          [ 0.0036,  0.1052, -0.0823,  0.0836],\n",
            "          [-0.0209, -0.0584,  0.0747,  0.0353],\n",
            "          [ 0.0863, -0.0022,  0.0350, -0.1145]],\n",
            "\n",
            "         [[ 0.0646, -0.0881,  0.0532,  0.0316],\n",
            "          [ 0.0783, -0.0169, -0.0104,  0.0777],\n",
            "          [-0.0432,  0.0952, -0.1175,  0.1105],\n",
            "          [ 0.0104,  0.0817,  0.0517,  0.1366]]],\n",
            "\n",
            "\n",
            "        [[[-0.0243,  0.1255, -0.0668,  0.0073],\n",
            "          [ 0.0079,  0.0732, -0.1146,  0.1433],\n",
            "          [-0.1295, -0.0897,  0.1258, -0.0175],\n",
            "          [ 0.1035, -0.0953,  0.1413,  0.1178]],\n",
            "\n",
            "         [[-0.1050,  0.0051, -0.1376, -0.0902],\n",
            "          [ 0.1260,  0.1096,  0.1223,  0.0205],\n",
            "          [ 0.0750, -0.0760, -0.1196, -0.1260],\n",
            "          [ 0.0558, -0.1125,  0.0317, -0.1128]],\n",
            "\n",
            "         [[-0.1060, -0.1076, -0.0121, -0.0285],\n",
            "          [-0.1079, -0.1140, -0.1188, -0.0664],\n",
            "          [-0.0161,  0.0090, -0.0310,  0.1433],\n",
            "          [-0.0899, -0.0931,  0.1405,  0.0918]]],\n",
            "\n",
            "\n",
            "        [[[ 0.1274, -0.1004, -0.0476, -0.1028],\n",
            "          [-0.0739,  0.0678, -0.1309,  0.0310],\n",
            "          [ 0.1322,  0.1066,  0.0179, -0.0994],\n",
            "          [-0.0305, -0.0685,  0.0953, -0.0606]],\n",
            "\n",
            "         [[ 0.0061,  0.0206, -0.0078,  0.0653],\n",
            "          [-0.0022, -0.0951, -0.0793,  0.0524],\n",
            "          [-0.0811, -0.0634, -0.1041, -0.0782],\n",
            "          [ 0.0811,  0.0367, -0.0592, -0.0211]],\n",
            "\n",
            "         [[ 0.0105,  0.0837, -0.0703,  0.0241],\n",
            "          [-0.1395,  0.1161, -0.1012, -0.0896],\n",
            "          [-0.0904, -0.1418,  0.1325, -0.0741],\n",
            "          [ 0.0783, -0.1097, -0.0301,  0.1377]]],\n",
            "\n",
            "\n",
            "        ...,\n",
            "\n",
            "\n",
            "        [[[ 0.0958, -0.0615,  0.0669,  0.0534],\n",
            "          [-0.0319, -0.0111, -0.0748, -0.1149],\n",
            "          [ 0.0983, -0.0651, -0.0102, -0.0150],\n",
            "          [ 0.0834,  0.0741, -0.1204, -0.0767]],\n",
            "\n",
            "         [[ 0.0148,  0.0069,  0.0694, -0.1280],\n",
            "          [ 0.0504,  0.1374,  0.0413,  0.0851],\n",
            "          [-0.0864, -0.0565,  0.0155, -0.0910],\n",
            "          [ 0.1206, -0.1052,  0.0969, -0.1319]],\n",
            "\n",
            "         [[ 0.1125,  0.0053,  0.0055, -0.1414],\n",
            "          [-0.0108, -0.0171,  0.0240, -0.0540],\n",
            "          [ 0.0130, -0.0156,  0.0217, -0.0134],\n",
            "          [ 0.0917,  0.0240,  0.0564, -0.1275]]],\n",
            "\n",
            "\n",
            "        [[[ 0.1368,  0.0816,  0.0748, -0.0959],\n",
            "          [-0.1310,  0.0274, -0.0404, -0.1047],\n",
            "          [ 0.0226,  0.0350,  0.1353, -0.0569],\n",
            "          [-0.0135,  0.0412, -0.0318, -0.0788]],\n",
            "\n",
            "         [[ 0.0409, -0.0590,  0.1001,  0.0583],\n",
            "          [ 0.0725,  0.0464, -0.0508,  0.0687],\n",
            "          [ 0.1122,  0.1077,  0.1316, -0.0412],\n",
            "          [ 0.0531,  0.0618, -0.0933,  0.0111]],\n",
            "\n",
            "         [[-0.1190, -0.0792,  0.0173, -0.1287],\n",
            "          [-0.0167,  0.0546, -0.0613, -0.0260],\n",
            "          [-0.0051, -0.0672,  0.0302, -0.0505],\n",
            "          [ 0.1231,  0.0461, -0.1137,  0.1056]]],\n",
            "\n",
            "\n",
            "        [[[ 0.0675,  0.1412,  0.0080,  0.0015],\n",
            "          [-0.1436, -0.0025,  0.0516, -0.0189],\n",
            "          [ 0.0217,  0.0247,  0.0798, -0.1350],\n",
            "          [ 0.0531, -0.1084, -0.1043,  0.1396]],\n",
            "\n",
            "         [[-0.0893,  0.0029, -0.0520,  0.0790],\n",
            "          [-0.0953, -0.1178,  0.1424,  0.1015],\n",
            "          [-0.0994,  0.0495,  0.0356,  0.1437],\n",
            "          [-0.0240, -0.0231, -0.0600,  0.1196]],\n",
            "\n",
            "         [[ 0.0643, -0.1290,  0.0492, -0.0796],\n",
            "          [-0.0560,  0.0460,  0.1063,  0.0510],\n",
            "          [-0.1044,  0.0252,  0.0352, -0.0490],\n",
            "          [-0.1397, -0.0659,  0.0423,  0.0710]]]], device='cuda:0',\n",
            "       requires_grad=True), Parameter containing:\n",
            "tensor([ 0.0289,  0.0204, -0.0862,  0.1058, -0.0745, -0.0954,  0.0433, -0.0278,\n",
            "        -0.1031,  0.0041,  0.0176,  0.0099,  0.0589, -0.0298,  0.1007, -0.1178,\n",
            "        -0.1101, -0.0647, -0.1306, -0.0171, -0.1359, -0.0902,  0.0842, -0.1258,\n",
            "         0.1292,  0.1092, -0.1428,  0.0470,  0.0748, -0.1009, -0.0437, -0.0409,\n",
            "        -0.0883,  0.1257,  0.0267, -0.0789, -0.0270, -0.0210,  0.1270,  0.0875,\n",
            "        -0.0393, -0.0325,  0.0037,  0.0457,  0.0503, -0.0515,  0.0035, -0.0592,\n",
            "         0.0284,  0.0084,  0.0977, -0.0331, -0.1065, -0.0577, -0.0247,  0.0242,\n",
            "        -0.1079, -0.0797, -0.0379, -0.0497,  0.1101, -0.1414, -0.1055, -0.1339,\n",
            "        -0.0630, -0.0805, -0.1005,  0.1195, -0.0746, -0.0029,  0.0453, -0.0680,\n",
            "        -0.0086, -0.0791, -0.0067, -0.0754,  0.0828, -0.1316, -0.0382,  0.0808,\n",
            "        -0.0709,  0.0068, -0.0169,  0.1144, -0.0522, -0.0910, -0.1069,  0.0960,\n",
            "         0.1181, -0.0518,  0.0680,  0.0762, -0.0441, -0.0333,  0.0480, -0.0691,\n",
            "         0.0407, -0.0881,  0.0776, -0.0895, -0.0528,  0.1318, -0.0723, -0.0968,\n",
            "        -0.0029,  0.1019,  0.0322,  0.0833, -0.0147,  0.0226, -0.0897,  0.0807,\n",
            "        -0.0853,  0.1411, -0.1337,  0.0150,  0.0250,  0.0188,  0.1363, -0.1440,\n",
            "        -0.0978,  0.0638,  0.0709, -0.0379,  0.1213,  0.0190,  0.0069, -0.1045],\n",
            "       device='cuda:0', requires_grad=True), Parameter containing:\n",
            "tensor([[[ 1.1939, -0.1355,  0.6431,  ...,  1.0967, -0.4684, -1.1152],\n",
            "         [-1.1125, -3.1374, -1.7270,  ...,  1.8813,  1.7370,  0.1839],\n",
            "         [-0.6632, -0.3356, -0.2379,  ...,  0.4166,  0.4410,  0.9156],\n",
            "         ...,\n",
            "         [-0.4611,  1.6982, -0.7212,  ..., -1.0659, -0.0192, -0.4718],\n",
            "         [-0.7150, -1.3429,  0.6051,  ..., -0.0784,  0.4950, -0.5747],\n",
            "         [ 0.5685,  1.1735, -0.5255,  ...,  0.6632,  1.0308, -1.2835]]],\n",
            "       device='cuda:0', requires_grad=True), Parameter containing:\n",
            "tensor([[-0.0508, -0.0110, -0.0206,  ..., -0.0775, -0.0231,  0.0220],\n",
            "        [ 0.0306, -0.0974, -0.0265,  ...,  0.0592,  0.0777,  0.0519],\n",
            "        [-0.0278,  0.0733, -0.0391,  ..., -0.0526, -0.0313, -0.1032],\n",
            "        ...,\n",
            "        [-0.1050, -0.0946,  0.0125,  ...,  0.0132, -0.0115, -0.0579],\n",
            "        [ 0.0353, -0.0920,  0.0715,  ...,  0.0956, -0.0219,  0.0423],\n",
            "        [ 0.1040,  0.0273,  0.0179,  ...,  0.0523,  0.0034,  0.0211]],\n",
            "       device='cuda:0', requires_grad=True), Parameter containing:\n",
            "tensor([[-0.0854, -0.0191,  0.0351,  ..., -0.0741,  0.0700,  0.0687],\n",
            "        [ 0.0608, -0.0194,  0.0184,  ..., -0.0774, -0.0819,  0.0368],\n",
            "        [ 0.0435, -0.0845, -0.0007,  ..., -0.0185, -0.0610, -0.0473],\n",
            "        ...,\n",
            "        [ 0.0017,  0.0211,  0.0084,  ..., -0.0199,  0.0228, -0.0746],\n",
            "        [ 0.0206, -0.0631, -0.0362,  ..., -0.0856, -0.0086, -0.0189],\n",
            "        [ 0.0341,  0.0816,  0.0309,  ...,  0.0540,  0.0064,  0.0722]],\n",
            "       device='cuda:0', requires_grad=True), Parameter containing:\n",
            "tensor([[-0.0212,  0.0091,  0.0475,  ..., -0.0201,  0.0201, -0.0657],\n",
            "        [ 0.0359,  0.0543, -0.0387,  ...,  0.0784, -0.0051,  0.0282],\n",
            "        [ 0.0800,  0.0152,  0.0577,  ..., -0.0207,  0.0793, -0.0144],\n",
            "        ...,\n",
            "        [ 0.0013, -0.0474,  0.0264,  ..., -0.0785, -0.0763, -0.0365],\n",
            "        [ 0.0629,  0.0801, -0.0798,  ...,  0.0879,  0.0350, -0.0734],\n",
            "        [ 0.0199,  0.0863,  0.0125,  ...,  0.0827,  0.0195,  0.0720]],\n",
            "       device='cuda:0', requires_grad=True), Parameter containing:\n",
            "tensor([[ 0.0537, -0.0315,  0.0578,  ...,  0.0320,  0.0009,  0.0383],\n",
            "        [-0.0022,  0.0217, -0.0376,  ..., -0.0171, -0.0031, -0.0166],\n",
            "        [ 0.0210, -0.0505,  0.0125,  ...,  0.0342,  0.0347,  0.0321],\n",
            "        ...,\n",
            "        [-0.0242, -0.0174, -0.0536,  ..., -0.0532,  0.0610,  0.0090],\n",
            "        [-0.0523,  0.0201,  0.0624,  ...,  0.0196, -0.0395, -0.0328],\n",
            "        [ 0.0429, -0.0215,  0.0390,  ...,  0.0019,  0.0370,  0.0202]],\n",
            "       device='cuda:0', requires_grad=True), Parameter containing:\n",
            "tensor([1., 1., 1., 1., 1., 1., 1., 1., 1., 1., 1., 1., 1., 1., 1., 1., 1., 1.,\n",
            "        1., 1., 1., 1., 1., 1., 1., 1., 1., 1., 1., 1., 1., 1., 1., 1., 1., 1.,\n",
            "        1., 1., 1., 1., 1., 1., 1., 1., 1., 1., 1., 1., 1., 1., 1., 1., 1., 1.,\n",
            "        1., 1., 1., 1., 1., 1., 1., 1., 1., 1., 1., 1., 1., 1., 1., 1., 1., 1.,\n",
            "        1., 1., 1., 1., 1., 1., 1., 1., 1., 1., 1., 1., 1., 1., 1., 1., 1., 1.,\n",
            "        1., 1., 1., 1., 1., 1., 1., 1., 1., 1., 1., 1., 1., 1., 1., 1., 1., 1.,\n",
            "        1., 1., 1., 1., 1., 1., 1., 1., 1., 1., 1., 1., 1., 1., 1., 1., 1., 1.,\n",
            "        1., 1.], device='cuda:0', requires_grad=True), Parameter containing:\n",
            "tensor([1., 1., 1., 1., 1., 1., 1., 1., 1., 1., 1., 1., 1., 1., 1., 1., 1., 1.,\n",
            "        1., 1., 1., 1., 1., 1., 1., 1., 1., 1., 1., 1., 1., 1., 1., 1., 1., 1.,\n",
            "        1., 1., 1., 1., 1., 1., 1., 1., 1., 1., 1., 1., 1., 1., 1., 1., 1., 1.,\n",
            "        1., 1., 1., 1., 1., 1., 1., 1., 1., 1., 1., 1., 1., 1., 1., 1., 1., 1.,\n",
            "        1., 1., 1., 1., 1., 1., 1., 1., 1., 1., 1., 1., 1., 1., 1., 1., 1., 1.,\n",
            "        1., 1., 1., 1., 1., 1., 1., 1., 1., 1., 1., 1., 1., 1., 1., 1., 1., 1.,\n",
            "        1., 1., 1., 1., 1., 1., 1., 1., 1., 1., 1., 1., 1., 1., 1., 1., 1., 1.,\n",
            "        1., 1.], device='cuda:0', requires_grad=True), Parameter containing:\n",
            "tensor([[-0.0508, -0.0110, -0.0206,  ..., -0.0775, -0.0231,  0.0220],\n",
            "        [ 0.0306, -0.0974, -0.0265,  ...,  0.0592,  0.0777,  0.0519],\n",
            "        [-0.0278,  0.0733, -0.0391,  ..., -0.0526, -0.0313, -0.1032],\n",
            "        ...,\n",
            "        [-0.1050, -0.0946,  0.0125,  ...,  0.0132, -0.0115, -0.0579],\n",
            "        [ 0.0353, -0.0920,  0.0715,  ...,  0.0956, -0.0219,  0.0423],\n",
            "        [ 0.1040,  0.0273,  0.0179,  ...,  0.0523,  0.0034,  0.0211]],\n",
            "       device='cuda:0', requires_grad=True), Parameter containing:\n",
            "tensor([[-0.0854, -0.0191,  0.0351,  ..., -0.0741,  0.0700,  0.0687],\n",
            "        [ 0.0608, -0.0194,  0.0184,  ..., -0.0774, -0.0819,  0.0368],\n",
            "        [ 0.0435, -0.0845, -0.0007,  ..., -0.0185, -0.0610, -0.0473],\n",
            "        ...,\n",
            "        [ 0.0017,  0.0211,  0.0084,  ..., -0.0199,  0.0228, -0.0746],\n",
            "        [ 0.0206, -0.0631, -0.0362,  ..., -0.0856, -0.0086, -0.0189],\n",
            "        [ 0.0341,  0.0816,  0.0309,  ...,  0.0540,  0.0064,  0.0722]],\n",
            "       device='cuda:0', requires_grad=True), Parameter containing:\n",
            "tensor([[-0.0212,  0.0091,  0.0475,  ..., -0.0201,  0.0201, -0.0657],\n",
            "        [ 0.0359,  0.0543, -0.0387,  ...,  0.0784, -0.0051,  0.0282],\n",
            "        [ 0.0800,  0.0152,  0.0577,  ..., -0.0207,  0.0793, -0.0144],\n",
            "        ...,\n",
            "        [ 0.0013, -0.0474,  0.0264,  ..., -0.0785, -0.0763, -0.0365],\n",
            "        [ 0.0629,  0.0801, -0.0798,  ...,  0.0879,  0.0350, -0.0734],\n",
            "        [ 0.0199,  0.0863,  0.0125,  ...,  0.0827,  0.0195,  0.0720]],\n",
            "       device='cuda:0', requires_grad=True), Parameter containing:\n",
            "tensor([[ 0.0537, -0.0315,  0.0578,  ...,  0.0320,  0.0009,  0.0383],\n",
            "        [-0.0022,  0.0217, -0.0376,  ..., -0.0171, -0.0031, -0.0166],\n",
            "        [ 0.0210, -0.0505,  0.0125,  ...,  0.0342,  0.0347,  0.0321],\n",
            "        ...,\n",
            "        [-0.0242, -0.0174, -0.0536,  ..., -0.0532,  0.0610,  0.0090],\n",
            "        [-0.0523,  0.0201,  0.0624,  ...,  0.0196, -0.0395, -0.0328],\n",
            "        [ 0.0429, -0.0215,  0.0390,  ...,  0.0019,  0.0370,  0.0202]],\n",
            "       device='cuda:0', requires_grad=True), Parameter containing:\n",
            "tensor([1., 1., 1., 1., 1., 1., 1., 1., 1., 1., 1., 1., 1., 1., 1., 1., 1., 1.,\n",
            "        1., 1., 1., 1., 1., 1., 1., 1., 1., 1., 1., 1., 1., 1., 1., 1., 1., 1.,\n",
            "        1., 1., 1., 1., 1., 1., 1., 1., 1., 1., 1., 1., 1., 1., 1., 1., 1., 1.,\n",
            "        1., 1., 1., 1., 1., 1., 1., 1., 1., 1., 1., 1., 1., 1., 1., 1., 1., 1.,\n",
            "        1., 1., 1., 1., 1., 1., 1., 1., 1., 1., 1., 1., 1., 1., 1., 1., 1., 1.,\n",
            "        1., 1., 1., 1., 1., 1., 1., 1., 1., 1., 1., 1., 1., 1., 1., 1., 1., 1.,\n",
            "        1., 1., 1., 1., 1., 1., 1., 1., 1., 1., 1., 1., 1., 1., 1., 1., 1., 1.,\n",
            "        1., 1.], device='cuda:0', requires_grad=True), Parameter containing:\n",
            "tensor([1., 1., 1., 1., 1., 1., 1., 1., 1., 1., 1., 1., 1., 1., 1., 1., 1., 1.,\n",
            "        1., 1., 1., 1., 1., 1., 1., 1., 1., 1., 1., 1., 1., 1., 1., 1., 1., 1.,\n",
            "        1., 1., 1., 1., 1., 1., 1., 1., 1., 1., 1., 1., 1., 1., 1., 1., 1., 1.,\n",
            "        1., 1., 1., 1., 1., 1., 1., 1., 1., 1., 1., 1., 1., 1., 1., 1., 1., 1.,\n",
            "        1., 1., 1., 1., 1., 1., 1., 1., 1., 1., 1., 1., 1., 1., 1., 1., 1., 1.,\n",
            "        1., 1., 1., 1., 1., 1., 1., 1., 1., 1., 1., 1., 1., 1., 1., 1., 1., 1.,\n",
            "        1., 1., 1., 1., 1., 1., 1., 1., 1., 1., 1., 1., 1., 1., 1., 1., 1., 1.,\n",
            "        1., 1.], device='cuda:0', requires_grad=True), Parameter containing:\n",
            "tensor([[-0.0508, -0.0110, -0.0206,  ..., -0.0775, -0.0231,  0.0220],\n",
            "        [ 0.0306, -0.0974, -0.0265,  ...,  0.0592,  0.0777,  0.0519],\n",
            "        [-0.0278,  0.0733, -0.0391,  ..., -0.0526, -0.0313, -0.1032],\n",
            "        ...,\n",
            "        [-0.1050, -0.0946,  0.0125,  ...,  0.0132, -0.0115, -0.0579],\n",
            "        [ 0.0353, -0.0920,  0.0715,  ...,  0.0956, -0.0219,  0.0423],\n",
            "        [ 0.1040,  0.0273,  0.0179,  ...,  0.0523,  0.0034,  0.0211]],\n",
            "       device='cuda:0', requires_grad=True), Parameter containing:\n",
            "tensor([[-0.0854, -0.0191,  0.0351,  ..., -0.0741,  0.0700,  0.0687],\n",
            "        [ 0.0608, -0.0194,  0.0184,  ..., -0.0774, -0.0819,  0.0368],\n",
            "        [ 0.0435, -0.0845, -0.0007,  ..., -0.0185, -0.0610, -0.0473],\n",
            "        ...,\n",
            "        [ 0.0017,  0.0211,  0.0084,  ..., -0.0199,  0.0228, -0.0746],\n",
            "        [ 0.0206, -0.0631, -0.0362,  ..., -0.0856, -0.0086, -0.0189],\n",
            "        [ 0.0341,  0.0816,  0.0309,  ...,  0.0540,  0.0064,  0.0722]],\n",
            "       device='cuda:0', requires_grad=True), Parameter containing:\n",
            "tensor([[-0.0212,  0.0091,  0.0475,  ..., -0.0201,  0.0201, -0.0657],\n",
            "        [ 0.0359,  0.0543, -0.0387,  ...,  0.0784, -0.0051,  0.0282],\n",
            "        [ 0.0800,  0.0152,  0.0577,  ..., -0.0207,  0.0793, -0.0144],\n",
            "        ...,\n",
            "        [ 0.0013, -0.0474,  0.0264,  ..., -0.0785, -0.0763, -0.0365],\n",
            "        [ 0.0629,  0.0801, -0.0798,  ...,  0.0879,  0.0350, -0.0734],\n",
            "        [ 0.0199,  0.0863,  0.0125,  ...,  0.0827,  0.0195,  0.0720]],\n",
            "       device='cuda:0', requires_grad=True), Parameter containing:\n",
            "tensor([[ 0.0537, -0.0315,  0.0578,  ...,  0.0320,  0.0009,  0.0383],\n",
            "        [-0.0022,  0.0217, -0.0376,  ..., -0.0171, -0.0031, -0.0166],\n",
            "        [ 0.0210, -0.0505,  0.0125,  ...,  0.0342,  0.0347,  0.0321],\n",
            "        ...,\n",
            "        [-0.0242, -0.0174, -0.0536,  ..., -0.0532,  0.0610,  0.0090],\n",
            "        [-0.0523,  0.0201,  0.0624,  ...,  0.0196, -0.0395, -0.0328],\n",
            "        [ 0.0429, -0.0215,  0.0390,  ...,  0.0019,  0.0370,  0.0202]],\n",
            "       device='cuda:0', requires_grad=True), Parameter containing:\n",
            "tensor([1., 1., 1., 1., 1., 1., 1., 1., 1., 1., 1., 1., 1., 1., 1., 1., 1., 1.,\n",
            "        1., 1., 1., 1., 1., 1., 1., 1., 1., 1., 1., 1., 1., 1., 1., 1., 1., 1.,\n",
            "        1., 1., 1., 1., 1., 1., 1., 1., 1., 1., 1., 1., 1., 1., 1., 1., 1., 1.,\n",
            "        1., 1., 1., 1., 1., 1., 1., 1., 1., 1., 1., 1., 1., 1., 1., 1., 1., 1.,\n",
            "        1., 1., 1., 1., 1., 1., 1., 1., 1., 1., 1., 1., 1., 1., 1., 1., 1., 1.,\n",
            "        1., 1., 1., 1., 1., 1., 1., 1., 1., 1., 1., 1., 1., 1., 1., 1., 1., 1.,\n",
            "        1., 1., 1., 1., 1., 1., 1., 1., 1., 1., 1., 1., 1., 1., 1., 1., 1., 1.,\n",
            "        1., 1.], device='cuda:0', requires_grad=True), Parameter containing:\n",
            "tensor([1., 1., 1., 1., 1., 1., 1., 1., 1., 1., 1., 1., 1., 1., 1., 1., 1., 1.,\n",
            "        1., 1., 1., 1., 1., 1., 1., 1., 1., 1., 1., 1., 1., 1., 1., 1., 1., 1.,\n",
            "        1., 1., 1., 1., 1., 1., 1., 1., 1., 1., 1., 1., 1., 1., 1., 1., 1., 1.,\n",
            "        1., 1., 1., 1., 1., 1., 1., 1., 1., 1., 1., 1., 1., 1., 1., 1., 1., 1.,\n",
            "        1., 1., 1., 1., 1., 1., 1., 1., 1., 1., 1., 1., 1., 1., 1., 1., 1., 1.,\n",
            "        1., 1., 1., 1., 1., 1., 1., 1., 1., 1., 1., 1., 1., 1., 1., 1., 1., 1.,\n",
            "        1., 1., 1., 1., 1., 1., 1., 1., 1., 1., 1., 1., 1., 1., 1., 1., 1., 1.,\n",
            "        1., 1.], device='cuda:0', requires_grad=True), Parameter containing:\n",
            "tensor([[-0.0508, -0.0110, -0.0206,  ..., -0.0775, -0.0231,  0.0220],\n",
            "        [ 0.0306, -0.0974, -0.0265,  ...,  0.0592,  0.0777,  0.0519],\n",
            "        [-0.0278,  0.0733, -0.0391,  ..., -0.0526, -0.0313, -0.1032],\n",
            "        ...,\n",
            "        [-0.1050, -0.0946,  0.0125,  ...,  0.0132, -0.0115, -0.0579],\n",
            "        [ 0.0353, -0.0920,  0.0715,  ...,  0.0956, -0.0219,  0.0423],\n",
            "        [ 0.1040,  0.0273,  0.0179,  ...,  0.0523,  0.0034,  0.0211]],\n",
            "       device='cuda:0', requires_grad=True), Parameter containing:\n",
            "tensor([[-0.0854, -0.0191,  0.0351,  ..., -0.0741,  0.0700,  0.0687],\n",
            "        [ 0.0608, -0.0194,  0.0184,  ..., -0.0774, -0.0819,  0.0368],\n",
            "        [ 0.0435, -0.0845, -0.0007,  ..., -0.0185, -0.0610, -0.0473],\n",
            "        ...,\n",
            "        [ 0.0017,  0.0211,  0.0084,  ..., -0.0199,  0.0228, -0.0746],\n",
            "        [ 0.0206, -0.0631, -0.0362,  ..., -0.0856, -0.0086, -0.0189],\n",
            "        [ 0.0341,  0.0816,  0.0309,  ...,  0.0540,  0.0064,  0.0722]],\n",
            "       device='cuda:0', requires_grad=True), Parameter containing:\n",
            "tensor([[-0.0212,  0.0091,  0.0475,  ..., -0.0201,  0.0201, -0.0657],\n",
            "        [ 0.0359,  0.0543, -0.0387,  ...,  0.0784, -0.0051,  0.0282],\n",
            "        [ 0.0800,  0.0152,  0.0577,  ..., -0.0207,  0.0793, -0.0144],\n",
            "        ...,\n",
            "        [ 0.0013, -0.0474,  0.0264,  ..., -0.0785, -0.0763, -0.0365],\n",
            "        [ 0.0629,  0.0801, -0.0798,  ...,  0.0879,  0.0350, -0.0734],\n",
            "        [ 0.0199,  0.0863,  0.0125,  ...,  0.0827,  0.0195,  0.0720]],\n",
            "       device='cuda:0', requires_grad=True), Parameter containing:\n",
            "tensor([[ 0.0537, -0.0315,  0.0578,  ...,  0.0320,  0.0009,  0.0383],\n",
            "        [-0.0022,  0.0217, -0.0376,  ..., -0.0171, -0.0031, -0.0166],\n",
            "        [ 0.0210, -0.0505,  0.0125,  ...,  0.0342,  0.0347,  0.0321],\n",
            "        ...,\n",
            "        [-0.0242, -0.0174, -0.0536,  ..., -0.0532,  0.0610,  0.0090],\n",
            "        [-0.0523,  0.0201,  0.0624,  ...,  0.0196, -0.0395, -0.0328],\n",
            "        [ 0.0429, -0.0215,  0.0390,  ...,  0.0019,  0.0370,  0.0202]],\n",
            "       device='cuda:0', requires_grad=True), Parameter containing:\n",
            "tensor([1., 1., 1., 1., 1., 1., 1., 1., 1., 1., 1., 1., 1., 1., 1., 1., 1., 1.,\n",
            "        1., 1., 1., 1., 1., 1., 1., 1., 1., 1., 1., 1., 1., 1., 1., 1., 1., 1.,\n",
            "        1., 1., 1., 1., 1., 1., 1., 1., 1., 1., 1., 1., 1., 1., 1., 1., 1., 1.,\n",
            "        1., 1., 1., 1., 1., 1., 1., 1., 1., 1., 1., 1., 1., 1., 1., 1., 1., 1.,\n",
            "        1., 1., 1., 1., 1., 1., 1., 1., 1., 1., 1., 1., 1., 1., 1., 1., 1., 1.,\n",
            "        1., 1., 1., 1., 1., 1., 1., 1., 1., 1., 1., 1., 1., 1., 1., 1., 1., 1.,\n",
            "        1., 1., 1., 1., 1., 1., 1., 1., 1., 1., 1., 1., 1., 1., 1., 1., 1., 1.,\n",
            "        1., 1.], device='cuda:0', requires_grad=True), Parameter containing:\n",
            "tensor([1., 1., 1., 1., 1., 1., 1., 1., 1., 1., 1., 1., 1., 1., 1., 1., 1., 1.,\n",
            "        1., 1., 1., 1., 1., 1., 1., 1., 1., 1., 1., 1., 1., 1., 1., 1., 1., 1.,\n",
            "        1., 1., 1., 1., 1., 1., 1., 1., 1., 1., 1., 1., 1., 1., 1., 1., 1., 1.,\n",
            "        1., 1., 1., 1., 1., 1., 1., 1., 1., 1., 1., 1., 1., 1., 1., 1., 1., 1.,\n",
            "        1., 1., 1., 1., 1., 1., 1., 1., 1., 1., 1., 1., 1., 1., 1., 1., 1., 1.,\n",
            "        1., 1., 1., 1., 1., 1., 1., 1., 1., 1., 1., 1., 1., 1., 1., 1., 1., 1.,\n",
            "        1., 1., 1., 1., 1., 1., 1., 1., 1., 1., 1., 1., 1., 1., 1., 1., 1., 1.,\n",
            "        1., 1.], device='cuda:0', requires_grad=True), Parameter containing:\n",
            "tensor([[-0.0508, -0.0110, -0.0206,  ..., -0.0775, -0.0231,  0.0220],\n",
            "        [ 0.0306, -0.0974, -0.0265,  ...,  0.0592,  0.0777,  0.0519],\n",
            "        [-0.0278,  0.0733, -0.0391,  ..., -0.0526, -0.0313, -0.1032],\n",
            "        ...,\n",
            "        [-0.1050, -0.0946,  0.0125,  ...,  0.0132, -0.0115, -0.0579],\n",
            "        [ 0.0353, -0.0920,  0.0715,  ...,  0.0956, -0.0219,  0.0423],\n",
            "        [ 0.1040,  0.0273,  0.0179,  ...,  0.0523,  0.0034,  0.0211]],\n",
            "       device='cuda:0', requires_grad=True), Parameter containing:\n",
            "tensor([[-0.0854, -0.0191,  0.0351,  ..., -0.0741,  0.0700,  0.0687],\n",
            "        [ 0.0608, -0.0194,  0.0184,  ..., -0.0774, -0.0819,  0.0368],\n",
            "        [ 0.0435, -0.0845, -0.0007,  ..., -0.0185, -0.0610, -0.0473],\n",
            "        ...,\n",
            "        [ 0.0017,  0.0211,  0.0084,  ..., -0.0199,  0.0228, -0.0746],\n",
            "        [ 0.0206, -0.0631, -0.0362,  ..., -0.0856, -0.0086, -0.0189],\n",
            "        [ 0.0341,  0.0816,  0.0309,  ...,  0.0540,  0.0064,  0.0722]],\n",
            "       device='cuda:0', requires_grad=True), Parameter containing:\n",
            "tensor([[-0.0212,  0.0091,  0.0475,  ..., -0.0201,  0.0201, -0.0657],\n",
            "        [ 0.0359,  0.0543, -0.0387,  ...,  0.0784, -0.0051,  0.0282],\n",
            "        [ 0.0800,  0.0152,  0.0577,  ..., -0.0207,  0.0793, -0.0144],\n",
            "        ...,\n",
            "        [ 0.0013, -0.0474,  0.0264,  ..., -0.0785, -0.0763, -0.0365],\n",
            "        [ 0.0629,  0.0801, -0.0798,  ...,  0.0879,  0.0350, -0.0734],\n",
            "        [ 0.0199,  0.0863,  0.0125,  ...,  0.0827,  0.0195,  0.0720]],\n",
            "       device='cuda:0', requires_grad=True), Parameter containing:\n",
            "tensor([[ 0.0537, -0.0315,  0.0578,  ...,  0.0320,  0.0009,  0.0383],\n",
            "        [-0.0022,  0.0217, -0.0376,  ..., -0.0171, -0.0031, -0.0166],\n",
            "        [ 0.0210, -0.0505,  0.0125,  ...,  0.0342,  0.0347,  0.0321],\n",
            "        ...,\n",
            "        [-0.0242, -0.0174, -0.0536,  ..., -0.0532,  0.0610,  0.0090],\n",
            "        [-0.0523,  0.0201,  0.0624,  ...,  0.0196, -0.0395, -0.0328],\n",
            "        [ 0.0429, -0.0215,  0.0390,  ...,  0.0019,  0.0370,  0.0202]],\n",
            "       device='cuda:0', requires_grad=True), Parameter containing:\n",
            "tensor([1., 1., 1., 1., 1., 1., 1., 1., 1., 1., 1., 1., 1., 1., 1., 1., 1., 1.,\n",
            "        1., 1., 1., 1., 1., 1., 1., 1., 1., 1., 1., 1., 1., 1., 1., 1., 1., 1.,\n",
            "        1., 1., 1., 1., 1., 1., 1., 1., 1., 1., 1., 1., 1., 1., 1., 1., 1., 1.,\n",
            "        1., 1., 1., 1., 1., 1., 1., 1., 1., 1., 1., 1., 1., 1., 1., 1., 1., 1.,\n",
            "        1., 1., 1., 1., 1., 1., 1., 1., 1., 1., 1., 1., 1., 1., 1., 1., 1., 1.,\n",
            "        1., 1., 1., 1., 1., 1., 1., 1., 1., 1., 1., 1., 1., 1., 1., 1., 1., 1.,\n",
            "        1., 1., 1., 1., 1., 1., 1., 1., 1., 1., 1., 1., 1., 1., 1., 1., 1., 1.,\n",
            "        1., 1.], device='cuda:0', requires_grad=True), Parameter containing:\n",
            "tensor([1., 1., 1., 1., 1., 1., 1., 1., 1., 1., 1., 1., 1., 1., 1., 1., 1., 1.,\n",
            "        1., 1., 1., 1., 1., 1., 1., 1., 1., 1., 1., 1., 1., 1., 1., 1., 1., 1.,\n",
            "        1., 1., 1., 1., 1., 1., 1., 1., 1., 1., 1., 1., 1., 1., 1., 1., 1., 1.,\n",
            "        1., 1., 1., 1., 1., 1., 1., 1., 1., 1., 1., 1., 1., 1., 1., 1., 1., 1.,\n",
            "        1., 1., 1., 1., 1., 1., 1., 1., 1., 1., 1., 1., 1., 1., 1., 1., 1., 1.,\n",
            "        1., 1., 1., 1., 1., 1., 1., 1., 1., 1., 1., 1., 1., 1., 1., 1., 1., 1.,\n",
            "        1., 1., 1., 1., 1., 1., 1., 1., 1., 1., 1., 1., 1., 1., 1., 1., 1., 1.,\n",
            "        1., 1.], device='cuda:0', requires_grad=True), Parameter containing:\n",
            "tensor([[-0.0508, -0.0110, -0.0206,  ..., -0.0775, -0.0231,  0.0220],\n",
            "        [ 0.0306, -0.0974, -0.0265,  ...,  0.0592,  0.0777,  0.0519],\n",
            "        [-0.0278,  0.0733, -0.0391,  ..., -0.0526, -0.0313, -0.1032],\n",
            "        ...,\n",
            "        [-0.1050, -0.0946,  0.0125,  ...,  0.0132, -0.0115, -0.0579],\n",
            "        [ 0.0353, -0.0920,  0.0715,  ...,  0.0956, -0.0219,  0.0423],\n",
            "        [ 0.1040,  0.0273,  0.0179,  ...,  0.0523,  0.0034,  0.0211]],\n",
            "       device='cuda:0', requires_grad=True), Parameter containing:\n",
            "tensor([[-0.0854, -0.0191,  0.0351,  ..., -0.0741,  0.0700,  0.0687],\n",
            "        [ 0.0608, -0.0194,  0.0184,  ..., -0.0774, -0.0819,  0.0368],\n",
            "        [ 0.0435, -0.0845, -0.0007,  ..., -0.0185, -0.0610, -0.0473],\n",
            "        ...,\n",
            "        [ 0.0017,  0.0211,  0.0084,  ..., -0.0199,  0.0228, -0.0746],\n",
            "        [ 0.0206, -0.0631, -0.0362,  ..., -0.0856, -0.0086, -0.0189],\n",
            "        [ 0.0341,  0.0816,  0.0309,  ...,  0.0540,  0.0064,  0.0722]],\n",
            "       device='cuda:0', requires_grad=True), Parameter containing:\n",
            "tensor([[-0.0212,  0.0091,  0.0475,  ..., -0.0201,  0.0201, -0.0657],\n",
            "        [ 0.0359,  0.0543, -0.0387,  ...,  0.0784, -0.0051,  0.0282],\n",
            "        [ 0.0800,  0.0152,  0.0577,  ..., -0.0207,  0.0793, -0.0144],\n",
            "        ...,\n",
            "        [ 0.0013, -0.0474,  0.0264,  ..., -0.0785, -0.0763, -0.0365],\n",
            "        [ 0.0629,  0.0801, -0.0798,  ...,  0.0879,  0.0350, -0.0734],\n",
            "        [ 0.0199,  0.0863,  0.0125,  ...,  0.0827,  0.0195,  0.0720]],\n",
            "       device='cuda:0', requires_grad=True), Parameter containing:\n",
            "tensor([[ 0.0537, -0.0315,  0.0578,  ...,  0.0320,  0.0009,  0.0383],\n",
            "        [-0.0022,  0.0217, -0.0376,  ..., -0.0171, -0.0031, -0.0166],\n",
            "        [ 0.0210, -0.0505,  0.0125,  ...,  0.0342,  0.0347,  0.0321],\n",
            "        ...,\n",
            "        [-0.0242, -0.0174, -0.0536,  ..., -0.0532,  0.0610,  0.0090],\n",
            "        [-0.0523,  0.0201,  0.0624,  ...,  0.0196, -0.0395, -0.0328],\n",
            "        [ 0.0429, -0.0215,  0.0390,  ...,  0.0019,  0.0370,  0.0202]],\n",
            "       device='cuda:0', requires_grad=True), Parameter containing:\n",
            "tensor([1., 1., 1., 1., 1., 1., 1., 1., 1., 1., 1., 1., 1., 1., 1., 1., 1., 1.,\n",
            "        1., 1., 1., 1., 1., 1., 1., 1., 1., 1., 1., 1., 1., 1., 1., 1., 1., 1.,\n",
            "        1., 1., 1., 1., 1., 1., 1., 1., 1., 1., 1., 1., 1., 1., 1., 1., 1., 1.,\n",
            "        1., 1., 1., 1., 1., 1., 1., 1., 1., 1., 1., 1., 1., 1., 1., 1., 1., 1.,\n",
            "        1., 1., 1., 1., 1., 1., 1., 1., 1., 1., 1., 1., 1., 1., 1., 1., 1., 1.,\n",
            "        1., 1., 1., 1., 1., 1., 1., 1., 1., 1., 1., 1., 1., 1., 1., 1., 1., 1.,\n",
            "        1., 1., 1., 1., 1., 1., 1., 1., 1., 1., 1., 1., 1., 1., 1., 1., 1., 1.,\n",
            "        1., 1.], device='cuda:0', requires_grad=True), Parameter containing:\n",
            "tensor([1., 1., 1., 1., 1., 1., 1., 1., 1., 1., 1., 1., 1., 1., 1., 1., 1., 1.,\n",
            "        1., 1., 1., 1., 1., 1., 1., 1., 1., 1., 1., 1., 1., 1., 1., 1., 1., 1.,\n",
            "        1., 1., 1., 1., 1., 1., 1., 1., 1., 1., 1., 1., 1., 1., 1., 1., 1., 1.,\n",
            "        1., 1., 1., 1., 1., 1., 1., 1., 1., 1., 1., 1., 1., 1., 1., 1., 1., 1.,\n",
            "        1., 1., 1., 1., 1., 1., 1., 1., 1., 1., 1., 1., 1., 1., 1., 1., 1., 1.,\n",
            "        1., 1., 1., 1., 1., 1., 1., 1., 1., 1., 1., 1., 1., 1., 1., 1., 1., 1.,\n",
            "        1., 1., 1., 1., 1., 1., 1., 1., 1., 1., 1., 1., 1., 1., 1., 1., 1., 1.,\n",
            "        1., 1.], device='cuda:0', requires_grad=True), Parameter containing:\n",
            "tensor([1., 1., 1., 1., 1., 1., 1., 1., 1., 1., 1., 1., 1., 1., 1., 1., 1., 1.,\n",
            "        1., 1., 1., 1., 1., 1., 1., 1., 1., 1., 1., 1., 1., 1., 1., 1., 1., 1.,\n",
            "        1., 1., 1., 1., 1., 1., 1., 1., 1., 1., 1., 1., 1., 1., 1., 1., 1., 1.,\n",
            "        1., 1., 1., 1., 1., 1., 1., 1., 1., 1., 1., 1., 1., 1., 1., 1., 1., 1.,\n",
            "        1., 1., 1., 1., 1., 1., 1., 1., 1., 1., 1., 1., 1., 1., 1., 1., 1., 1.,\n",
            "        1., 1., 1., 1., 1., 1., 1., 1., 1., 1., 1., 1., 1., 1., 1., 1., 1., 1.,\n",
            "        1., 1., 1., 1., 1., 1., 1., 1., 1., 1., 1., 1., 1., 1., 1., 1., 1., 1.,\n",
            "        1., 1.], device='cuda:0', requires_grad=True), Parameter containing:\n",
            "tensor([0., 0., 0., 0., 0., 0., 0., 0., 0., 0., 0., 0., 0., 0., 0., 0., 0., 0., 0., 0., 0., 0., 0., 0.,\n",
            "        0., 0., 0., 0., 0., 0., 0., 0., 0., 0., 0., 0., 0., 0., 0., 0., 0., 0., 0., 0., 0., 0., 0., 0.,\n",
            "        0., 0., 0., 0., 0., 0., 0., 0., 0., 0., 0., 0., 0., 0., 0., 0., 0., 0., 0., 0., 0., 0., 0., 0.,\n",
            "        0., 0., 0., 0., 0., 0., 0., 0., 0., 0., 0., 0., 0., 0., 0., 0., 0., 0., 0., 0., 0., 0., 0., 0.,\n",
            "        0., 0., 0., 0., 0., 0., 0., 0., 0., 0., 0., 0., 0., 0., 0., 0., 0., 0., 0., 0., 0., 0., 0., 0.,\n",
            "        0., 0., 0., 0., 0., 0., 0., 0.], device='cuda:0', requires_grad=True), Parameter containing:\n",
            "tensor([[-0.0050,  0.0761, -0.0022,  ...,  0.0287, -0.0419,  0.0496],\n",
            "        [-0.0275, -0.0180, -0.0090,  ..., -0.0279, -0.0341, -0.0607],\n",
            "        [ 0.0531, -0.0548,  0.0206,  ..., -0.0465, -0.0124,  0.0195],\n",
            "        ...,\n",
            "        [ 0.0371,  0.0659, -0.0821,  ..., -0.0349,  0.0595, -0.0151],\n",
            "        [-0.0748, -0.0735,  0.0674,  ..., -0.0766,  0.0038, -0.0470],\n",
            "        [-0.0127,  0.0613,  0.0603,  ..., -0.0293, -0.0724,  0.0608]],\n",
            "       device='cuda:0', requires_grad=True), Parameter containing:\n",
            "tensor([-0.0846,  0.0311,  0.0527,  0.0819, -0.0316, -0.0360, -0.0053, -0.0279,\n",
            "        -0.0455,  0.0884], device='cuda:0', requires_grad=True)]\n"
          ]
        }
      ]
    },
    {
      "cell_type": "code",
      "source": [
        "def count_parameters(model: nn.Module) -> int:\n",
        "    \"\"\"\n",
        "    Count the number of trainable parameters in a PyTorch model.\n",
        "\n",
        "    Args:\n",
        "        model (nn.Module): The PyTorch model.\n",
        "\n",
        "    Returns:\n",
        "        int: The total number of trainable parameters.\n",
        "    \"\"\"\n",
        "    return sum(p.numel() for p in model.parameters() if p.requires_grad) / 1_000_000\n",
        "\n",
        "torch.cuda.empty_cache()\n",
        "print(\"Número de parámetros: {:.2f} millones\".format(count_parameters(model)))"
      ],
      "metadata": {
        "colab": {
          "base_uri": "https://localhost:8080/"
        },
        "id": "0B8MvnWkwr3P",
        "outputId": "0f596521-4317-4499-8a24-05bae836b272"
      },
      "id": "0B8MvnWkwr3P",
      "execution_count": 12,
      "outputs": [
        {
          "output_type": "stream",
          "name": "stdout",
          "text": [
            "Número de parámetros: 0.80 millones\n"
          ]
        }
      ]
    },
    {
      "cell_type": "code",
      "source": [
        "trainer = Trainer(model, train_loader, test_loader, loss_fn, optimizer, device)\n",
        "\n",
        "# ENTRENAMIENTO CON MIXUP Y CUTMIX\n",
        "train_losses = []\n",
        "val_losses = []\n",
        "\n",
        "early_stopping = EarlyStopping(patience=5)\n",
        "epochs = 30\n",
        "\n",
        "for epoch in range(epochs):\n",
        "    print(f\"Epoch {epoch+1}/{epochs}\")\n",
        "\n",
        "    model.train()\n",
        "    batch_losses = []\n",
        "    bar = tqdm(train_loader)\n",
        "\n",
        "    for inputs, targets in bar:\n",
        "        inputs, targets = inputs.to(device), targets.to(device)\n",
        "\n",
        "        r = random.random()\n",
        "        if r < 0.5:\n",
        "            inputs, targets_a, targets_b, lam = mixup_data(inputs, targets, alpha=1.0)\n",
        "            outputs = model(inputs)\n",
        "            loss = mixup_criterion(loss_fn, outputs, targets_a, targets_b, lam)\n",
        "        else:\n",
        "            inputs, targets_a, targets_b, lam = cutmix_data(inputs, targets, alpha=1.0)\n",
        "            outputs = model(inputs)\n",
        "            loss = mixup_criterion(loss_fn, outputs, targets_a, targets_b, lam)\n",
        "\n",
        "        loss.backward()\n",
        "        optimizer.step()\n",
        "        for param in model.parameters():\n",
        "            param.grad = None\n",
        "\n",
        "        batch_losses.append(loss.item())\n",
        "        bar.set_description(f\"Train loss {loss.item():.5f}\")\n",
        "\n",
        "    train_loss = np.mean(batch_losses)\n",
        "    val_loss = trainer.eval_model()\n",
        "\n",
        "    train_losses.append(train_loss)\n",
        "    val_losses.append(val_loss)\n",
        "\n",
        "    if early_stopping(model, val_loss):\n",
        "        print(\"Early stopping aplicado.\")\n",
        "        break"
      ],
      "metadata": {
        "colab": {
          "base_uri": "https://localhost:8080/"
        },
        "id": "KNAuEBgQwbPr",
        "outputId": "75b0a9f6-f927-4746-949d-e0cbe6cd9f31"
      },
      "id": "KNAuEBgQwbPr",
      "execution_count": 13,
      "outputs": [
        {
          "output_type": "stream",
          "name": "stdout",
          "text": [
            "Epoch 1/30\n"
          ]
        },
        {
          "output_type": "stream",
          "name": "stderr",
          "text": [
            "Train loss 2.38565: 100%|██████████| 782/782 [00:22<00:00, 34.58it/s]\n",
            "val_loss 2.33365: 100%|██████████| 157/157 [00:01<00:00, 123.43it/s]\n"
          ]
        },
        {
          "output_type": "stream",
          "name": "stdout",
          "text": [
            "Epoch 2/30\n"
          ]
        },
        {
          "output_type": "stream",
          "name": "stderr",
          "text": [
            "Train loss 2.30011: 100%|██████████| 782/782 [00:22<00:00, 34.73it/s]\n",
            "val_loss 2.33621: 100%|██████████| 157/157 [00:01<00:00, 125.87it/s]\n"
          ]
        },
        {
          "output_type": "stream",
          "name": "stdout",
          "text": [
            "Epoch 3/30\n"
          ]
        },
        {
          "output_type": "stream",
          "name": "stderr",
          "text": [
            "Train loss 2.32383: 100%|██████████| 782/782 [00:22<00:00, 34.85it/s]\n",
            "val_loss 2.29594: 100%|██████████| 157/157 [00:01<00:00, 121.55it/s]\n"
          ]
        },
        {
          "output_type": "stream",
          "name": "stdout",
          "text": [
            "Epoch 4/30\n"
          ]
        },
        {
          "output_type": "stream",
          "name": "stderr",
          "text": [
            "Train loss 2.30464: 100%|██████████| 782/782 [00:22<00:00, 34.92it/s]\n",
            "val_loss 2.29073: 100%|██████████| 157/157 [00:01<00:00, 115.59it/s]\n"
          ]
        },
        {
          "output_type": "stream",
          "name": "stdout",
          "text": [
            "Epoch 5/30\n"
          ]
        },
        {
          "output_type": "stream",
          "name": "stderr",
          "text": [
            "Train loss 2.30741: 100%|██████████| 782/782 [00:21<00:00, 35.67it/s]\n",
            "val_loss 2.30388: 100%|██████████| 157/157 [00:01<00:00, 119.24it/s]\n"
          ]
        },
        {
          "output_type": "stream",
          "name": "stdout",
          "text": [
            "Epoch 6/30\n"
          ]
        },
        {
          "output_type": "stream",
          "name": "stderr",
          "text": [
            "Train loss 2.29812: 100%|██████████| 782/782 [00:22<00:00, 34.89it/s]\n",
            "val_loss 2.29993: 100%|██████████| 157/157 [00:01<00:00, 128.28it/s]\n"
          ]
        },
        {
          "output_type": "stream",
          "name": "stdout",
          "text": [
            "Epoch 7/30\n"
          ]
        },
        {
          "output_type": "stream",
          "name": "stderr",
          "text": [
            "Train loss 2.31641: 100%|██████████| 782/782 [00:22<00:00, 34.92it/s]\n",
            "val_loss 2.30123: 100%|██████████| 157/157 [00:01<00:00, 128.68it/s]\n"
          ]
        },
        {
          "output_type": "stream",
          "name": "stdout",
          "text": [
            "Epoch 8/30\n"
          ]
        },
        {
          "output_type": "stream",
          "name": "stderr",
          "text": [
            "Train loss 2.32162: 100%|██████████| 782/782 [00:22<00:00, 34.64it/s]\n",
            "val_loss 2.31029: 100%|██████████| 157/157 [00:01<00:00, 120.86it/s]\n"
          ]
        },
        {
          "output_type": "stream",
          "name": "stdout",
          "text": [
            "Epoch 9/30\n"
          ]
        },
        {
          "output_type": "stream",
          "name": "stderr",
          "text": [
            "Train loss 2.31045: 100%|██████████| 782/782 [00:22<00:00, 34.95it/s]\n",
            "val_loss 2.28975: 100%|██████████| 157/157 [00:01<00:00, 122.83it/s]\n"
          ]
        },
        {
          "output_type": "stream",
          "name": "stdout",
          "text": [
            "Epoch 10/30\n"
          ]
        },
        {
          "output_type": "stream",
          "name": "stderr",
          "text": [
            "Train loss 2.32665: 100%|██████████| 782/782 [00:22<00:00, 34.95it/s]\n",
            "val_loss 2.29951: 100%|██████████| 157/157 [00:01<00:00, 133.91it/s]\n"
          ]
        },
        {
          "output_type": "stream",
          "name": "stdout",
          "text": [
            "Epoch 11/30\n"
          ]
        },
        {
          "output_type": "stream",
          "name": "stderr",
          "text": [
            "Train loss 2.30748: 100%|██████████| 782/782 [00:21<00:00, 35.59it/s]\n",
            "val_loss 2.29593: 100%|██████████| 157/157 [00:01<00:00, 131.70it/s]\n"
          ]
        },
        {
          "output_type": "stream",
          "name": "stdout",
          "text": [
            "Epoch 12/30\n"
          ]
        },
        {
          "output_type": "stream",
          "name": "stderr",
          "text": [
            "Train loss 2.30625: 100%|██████████| 782/782 [00:22<00:00, 35.43it/s]\n",
            "val_loss 2.29555: 100%|██████████| 157/157 [00:01<00:00, 126.35it/s]\n"
          ]
        },
        {
          "output_type": "stream",
          "name": "stdout",
          "text": [
            "Epoch 13/30\n"
          ]
        },
        {
          "output_type": "stream",
          "name": "stderr",
          "text": [
            "Train loss 2.30402: 100%|██████████| 782/782 [00:22<00:00, 35.45it/s]\n",
            "val_loss 2.29741: 100%|██████████| 157/157 [00:01<00:00, 131.65it/s]\n"
          ]
        },
        {
          "output_type": "stream",
          "name": "stdout",
          "text": [
            "Epoch 14/30\n"
          ]
        },
        {
          "output_type": "stream",
          "name": "stderr",
          "text": [
            "Train loss 2.29894: 100%|██████████| 782/782 [00:21<00:00, 35.58it/s]\n",
            "val_loss 2.29688: 100%|██████████| 157/157 [00:01<00:00, 128.77it/s]\n"
          ]
        },
        {
          "output_type": "stream",
          "name": "stdout",
          "text": [
            "Epoch 15/30\n"
          ]
        },
        {
          "output_type": "stream",
          "name": "stderr",
          "text": [
            "Train loss 2.29904: 100%|██████████| 782/782 [00:21<00:00, 35.59it/s]\n",
            "val_loss 2.30296: 100%|██████████| 157/157 [00:01<00:00, 127.10it/s]\n"
          ]
        },
        {
          "output_type": "stream",
          "name": "stdout",
          "text": [
            "Epoch 16/30\n"
          ]
        },
        {
          "output_type": "stream",
          "name": "stderr",
          "text": [
            "Train loss 2.30880: 100%|██████████| 782/782 [00:22<00:00, 35.48it/s]\n",
            "val_loss 2.30813: 100%|██████████| 157/157 [00:01<00:00, 130.96it/s]\n"
          ]
        },
        {
          "output_type": "stream",
          "name": "stdout",
          "text": [
            "Early stopping aplicado.\n"
          ]
        }
      ]
    },
    {
      "cell_type": "code",
      "source": [
        "from sklearn.metrics import accuracy_score, precision_score, recall_score, f1_score\n",
        "\n",
        "def evaluate_model(model, data_loader):\n",
        "    y_true = []\n",
        "    y_pred = []\n",
        "    model.eval()\n",
        "    with torch.no_grad():\n",
        "        for images, labels in tqdm(data_loader):\n",
        "            images = images.to(device).float()\n",
        "            outputs = model(images)\n",
        "            _, preds = torch.max(outputs, 1)\n",
        "            y_true.extend(labels.cpu().numpy())\n",
        "            y_pred.extend(preds.cpu().numpy())\n",
        "\n",
        "    accuracy = accuracy_score(y_true, y_pred)\n",
        "    precision = precision_score(y_true, y_pred, average='macro')\n",
        "    recall = recall_score(y_true, y_pred, average='macro')\n",
        "    f1 = f1_score(y_true, y_pred, average='macro')\n",
        "\n",
        "    return accuracy, precision, recall, f1\n",
        "\n",
        "# Evaluar el modelo\n",
        "accuracy, precision, recall, f1 = evaluate_model(model, test_loader)"
      ],
      "metadata": {
        "colab": {
          "base_uri": "https://localhost:8080/"
        },
        "id": "HTgcEA6lxN8T",
        "outputId": "df4d0b33-4f50-4a5c-a96f-e0ccef90e404"
      },
      "id": "HTgcEA6lxN8T",
      "execution_count": 15,
      "outputs": [
        {
          "output_type": "stream",
          "name": "stderr",
          "text": [
            "100%|██████████| 157/157 [00:01<00:00, 120.52it/s]\n",
            "/usr/local/lib/python3.11/dist-packages/sklearn/metrics/_classification.py:1565: UndefinedMetricWarning: Precision is ill-defined and being set to 0.0 in labels with no predicted samples. Use `zero_division` parameter to control this behavior.\n",
            "  _warn_prf(average, modifier, f\"{metric.capitalize()} is\", len(result))\n"
          ]
        }
      ]
    },
    {
      "cell_type": "code",
      "source": [
        "print(f\"Accuracy: {accuracy:.2f}\")\n",
        "print(f\"Precision: {precision:.2f}\")\n",
        "print(f\"Recall: {recall:.2f}\")\n",
        "print(f\"F1 score: {f1:.2f}\")"
      ],
      "metadata": {
        "colab": {
          "base_uri": "https://localhost:8080/"
        },
        "id": "VfExCPnlxTUI",
        "outputId": "d6d798d6-1139-4ef7-a411-6dc023cac3bc"
      },
      "id": "VfExCPnlxTUI",
      "execution_count": 16,
      "outputs": [
        {
          "output_type": "stream",
          "name": "stdout",
          "text": [
            "Accuracy: 0.10\n",
            "Precision: 0.01\n",
            "Recall: 0.10\n",
            "F1 score: 0.02\n"
          ]
        }
      ]
    },
    {
      "cell_type": "code",
      "source": [
        "train_dataset.data[0].shape"
      ],
      "metadata": {
        "colab": {
          "base_uri": "https://localhost:8080/"
        },
        "id": "ZqiIFJOjxXiJ",
        "outputId": "4faaca11-6ca7-4035-979f-3cca24b9f1ac"
      },
      "id": "ZqiIFJOjxXiJ",
      "execution_count": 17,
      "outputs": [
        {
          "output_type": "execute_result",
          "data": {
            "text/plain": [
              "(32, 32, 3)"
            ]
          },
          "metadata": {},
          "execution_count": 17
        }
      ]
    },
    {
      "cell_type": "code",
      "execution_count": 18,
      "id": "6ed2f79f",
      "metadata": {
        "id": "6ed2f79f",
        "outputId": "02c4d42c-5676-446d-b139-67a5d7fa2f69",
        "colab": {
          "base_uri": "https://localhost:8080/",
          "height": 472
        }
      },
      "outputs": [
        {
          "output_type": "display_data",
          "data": {
            "text/plain": [
              "<Figure size 640x480 with 1 Axes>"
            ],
            "image/png": "[encoded data removed]"
          },
          "metadata": {}
        }
      ],
      "source": [
        "# GRÁFICO DE PÉRDIDAS\n",
        "plt.plot(train_losses, label='Training Loss')\n",
        "plt.plot(val_losses, label='Validation Loss')\n",
        "plt.xlabel('Epoch')\n",
        "plt.ylabel('Loss')\n",
        "plt.title('Training and Validation Loss over Epochs')\n",
        "plt.legend()\n",
        "plt.grid()\n",
        "plt.show()"
      ]
    },
    {
      "cell_type": "code",
      "source": [
        "def visualize_classification(model, data_loader, class_names, num_images=16):\n",
        "    model.eval()\n",
        "    images_so_far = 0\n",
        "    fig = plt.figure(figsize=(15, 15))\n",
        "\n",
        "    with torch.no_grad():\n",
        "        for i, (inputs, labels) in enumerate(tqdm(data_loader)):\n",
        "            inputs = inputs.to(device)\n",
        "            outputs = model(inputs)\n",
        "            _, preds = torch.max(outputs, 1)\n",
        "\n",
        "            for j in range(inputs.size()[0]):\n",
        "                images_so_far += 1\n",
        "                ax = plt.subplot(num_images // 4, 4, images_so_far)\n",
        "                ax.axis('off')\n",
        "                ax.set_title(f'True: {class_names[labels[j]]}\\nPred: {class_names[preds[j]]}')\n",
        "                img = inputs[j].cpu().numpy().transpose((1, 2, 0))\n",
        "                img = img * [0.229, 0.224, 0.225] + [0.485, 0.456, 0.406]  # Unnormalize\n",
        "                img = np.clip(img, 0, 1)\n",
        "                ax.imshow(img)\n",
        "\n",
        "                if images_so_far == num_images:\n",
        "                    return\n",
        "\n",
        "# Para CIFAR-10\n",
        "class_names = ['airplane', 'automobile', 'bird', 'cat', 'deer',\n",
        "               'dog', 'frog', 'horse', 'ship', 'truck']\n",
        "\n",
        "visualize_classification(model, test_loader, class_names, num_images=16)\n",
        "plt.show()"
      ],
      "metadata": {
        "colab": {
          "base_uri": "https://localhost:8080/",
          "height": 1000
        },
        "id": "KY0NcMtNxhNl",
        "outputId": "01c22d0a-d3bb-4d21-bf05-e38afdd2cfa8"
      },
      "id": "KY0NcMtNxhNl",
      "execution_count": 20,
      "outputs": [
        {
          "output_type": "stream",
          "name": "stderr",
          "text": [
            "  0%|          | 0/157 [00:00<?, ?it/s]\n"
          ]
        },
        {
          "output_type": "display_data",
          "data": {
            "text/plain": [
              "<Figure size 1500x1500 with 16 Axes>"
            ],
            "image/png": "[encoded data removed]"
          },
          "metadata": {}
        }
      ]
    },
    {
      "cell_type": "markdown",
      "source": [
        "# Resumen de lo que hicimos:\n",
        "## Dataset:\n",
        "* Usamos CIFAR-10 (torchvision.datasets.CIFAR10).\n",
        "* Elegimos imágenes 32x32 (si hace falta, las podríamos agrandar a 64x64).\n",
        "\n",
        "## Implementación de Vision Transformer Mini versión:\n",
        "* patch_size = 4 (sobre imágenes de 32x32, 64 parches).\n",
        "* embed_dim = 128.\n",
        "* num_heads = 4.\n",
        "* depth = 6 capas Transformer encoder.\n",
        "* mlp_dim = 256 (en el MLP del encoder).\n",
        "* Output: 10 clases (porque CIFAR-10 tiene 10 clases).\n",
        "\n",
        "## Data Augmentation:\n",
        "* Clásico: RandomCrop, RandomHorizontalFlip, ColorJitter.\n",
        "* Extra: Mixup y CutMix (son un poco más complejos).\n",
        "\n",
        "## Entrenamiento:\n",
        "* Usamos el Trainer de la cátedra (trainer.py).\n",
        "* Métricas: pérdida de entrenamiento y validación.\n",
        "* Patience = 5 en EarlyStopping.\n",
        "Learning Rate = 1e-3 con AdamW.\n",
        "Batch size = 64.\n",
        "Epochs máximo = 30 (frenó a las 16).\n",
        "Data Augmentation mixto al azar.\n",
        "\n",
        "# Visualizaciones:\n",
        "* Curvas de pérdida (loss vs epochs).\n",
        "* Ejemplos de imágenes aumentadas."
      ],
      "metadata": {
        "id": "U3b6o6Z17_rX"
      },
      "id": "U3b6o6Z17_rX"
    }
  ],
  "metadata": {
    "language_info": {
      "name": "python"
    },
    "colab": {
      "provenance": [],
      "machine_shape": "hm",
      "gpuType": "T4"
    },
    "accelerator": "GPU",
    "kernelspec": {
      "name": "python3",
      "display_name": "Python 3"
    }
  },
  "nbformat": 4,
  "nbformat_minor": 5
}